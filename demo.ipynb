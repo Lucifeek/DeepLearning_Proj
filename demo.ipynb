{
 "cells": [
  {
   "cell_type": "code",
   "execution_count": 1,
   "metadata": {},
   "outputs": [
    {
     "name": "stdout",
     "output_type": "stream",
     "text": [
      "2.1.0\n",
      "WARNING:tensorflow:From <ipython-input-1-91769dfb6071>:19: is_gpu_available (from tensorflow.python.framework.test_util) is deprecated and will be removed in a future version.\n",
      "Instructions for updating:\n",
      "Use `tf.config.list_physical_devices('GPU')` instead.\n",
      "GPU Available:  True\n"
     ]
    }
   ],
   "source": [
    "import os\n",
    "os.environ['TF_CPP_MIN_LOG_LEVEL'] = '2'\n",
    "'''0 = all messages are logged (default behavior)\n",
    "1 = INFO messages are not printed\n",
    "2 = INFO and WARNING messages are not printed\n",
    "3 = INFO, WARNING, and ERROR messages are not printed'''\n",
    "import time\n",
    "\n",
    "import tensorflow as tf\n",
    "\n",
    "from config import argparser\n",
    "from data import get_dataloader\n",
    "from model import Base, DIN, DIEN\n",
    "from utils import eval\n",
    "import matplotlib.pyplot as plt\n",
    "\n",
    "# Config\n",
    "print(tf.__version__)\n",
    "print(\"GPU Available: \", tf.test.is_gpu_available())\n",
    "\n",
    "args = argparser()"
   ]
  },
  {
   "cell_type": "code",
   "execution_count": 2,
   "metadata": {},
   "outputs": [],
   "source": [
    "# Data Load\n",
    "train_data, test_data, \\\n",
    "user_count, item_count, cate_count, \\\n",
    "cate_list = get_dataloader(args.train_batch_size, args.test_batch_size)\n",
    "\n",
    "# Loss, Optim\n",
    "optimizer = tf.keras.optimizers.SGD(learning_rate=args.lr, momentum=0.0)\n",
    "loss_metric = tf.keras.metrics.Sum()\n",
    "auc_metric = tf.keras.metrics.AUC()\n",
    "\n",
    "# Model\n",
    "model1 = DIN(user_count, item_count, cate_count, cate_list,\n",
    "             args.user_dim, args.item_dim, args.cate_dim, args.dim_layers)\n",
    "\n",
    "model2 = DIEN(user_count, item_count, cate_count, cate_list,\n",
    "             args.user_dim, args.item_dim, args.cate_dim, args.dim_layers)\n",
    "\n",
    "# Board\n",
    "train_summary_writer = tf.summary.create_file_writer(args.log_path)"
   ]
  },
  {
   "cell_type": "code",
   "execution_count": 3,
   "metadata": {},
   "outputs": [],
   "source": [
    "#@tf.function\n",
    "def train_one_step(u,i,y,hist_i,sl, model):\n",
    "    with tf.GradientTape() as tape:\n",
    "        output,_ = model(u,i,hist_i,sl)\n",
    "        loss = tf.reduce_mean(\n",
    "                tf.nn.sigmoid_cross_entropy_with_logits(logits=output, labels=tf.cast(y, dtype=tf.float32)))\n",
    "    gradient = tape.gradient(loss, model.trainable_variables)\n",
    "    clip_gradient, _ = tf.clip_by_global_norm(gradient, 5.0)\n",
    "    optimizer.apply_gradients(zip(clip_gradient, model.trainable_variables))\n",
    "\n",
    "    loss_metric(loss)"
   ]
  },
  {
   "cell_type": "code",
   "execution_count": 4,
   "metadata": {},
   "outputs": [],
   "source": [
    "# Train\n",
    "def train(optimizer, model):\n",
    "    best_loss= 0.\n",
    "    best_auc = 0.\n",
    "    start_time = time.time()\n",
    "    \n",
    "    for epoch in range(args.epochs):\n",
    "        for step, (u, i, y, hist_i, sl) in enumerate(train_data, start=1):\n",
    "            train_one_step(u, i, y, hist_i, sl, model)\n",
    "\n",
    "            if step % args.print_step == 0:\n",
    "                test_gauc, auc = eval(model, test_data)\n",
    "                print('Epoch %d Global_step %d\\tTrain_loss: %.4f\\tEval_GAUC: %.4f\\tEval_AUC: %.4f' %\n",
    "                      (epoch, step, loss_metric.result()/ args.print_step, test_gauc, auc))\n",
    "                \n",
    "                loss_his.append(loss_metric.result()/ args.print_step)\n",
    "                auc_his.append(auc)\n",
    "                test_gauc_his.append(test_gauc)\n",
    "\n",
    "                if best_auc < test_gauc:\n",
    "                    best_loss= loss_metric.result() / args.print_step\n",
    "                    best_auc = test_gauc\n",
    "                    model.save_weights(args.model_path+'cp-%d.ckpt'%epoch)\n",
    "                loss_metric.reset_states()\n",
    "\n",
    "        with train_summary_writer.as_default():\n",
    "            tf.summary.scalar('loss', best_loss, step=epoch)\n",
    "            tf.summary.scalar('test_gauc', best_auc, step=epoch)\n",
    "\n",
    "        loss_metric.reset_states()\n",
    "        optimizer = tf.keras.optimizers.SGD(learning_rate=0.01, momentum=0.0)\n",
    "        print('Epoch %d DONE\\tCost time: %.2f' % (epoch, time.time()-start_time))\n",
    "    print('Best test_gauc: ', best_auc)"
   ]
  },
  {
   "cell_type": "code",
   "execution_count": 5,
   "metadata": {},
   "outputs": [
    {
     "name": "stdout",
     "output_type": "stream",
     "text": [
      "Epoch 0 Global_step 100\tTrain_loss: 0.6915\tEval_GAUC: 0.6983\tEval_AUC: 0.6636\n",
      "Epoch 0 DONE\tCost time: 3.08\n",
      "Epoch 1 Global_step 100\tTrain_loss: 0.6862\tEval_GAUC: 0.7213\tEval_AUC: 0.6789\n",
      "Epoch 1 DONE\tCost time: 5.93\n",
      "Epoch 2 Global_step 100\tTrain_loss: 0.6812\tEval_GAUC: 0.7184\tEval_AUC: 0.6816\n",
      "Epoch 2 DONE\tCost time: 8.68\n",
      "Epoch 3 Global_step 100\tTrain_loss: 0.6766\tEval_GAUC: 0.7184\tEval_AUC: 0.6819\n",
      "Epoch 3 DONE\tCost time: 11.41\n",
      "Epoch 4 Global_step 100\tTrain_loss: 0.6722\tEval_GAUC: 0.7098\tEval_AUC: 0.6821\n",
      "Epoch 4 DONE\tCost time: 14.11\n",
      "Epoch 5 Global_step 100\tTrain_loss: 0.6680\tEval_GAUC: 0.7126\tEval_AUC: 0.6820\n",
      "Epoch 5 DONE\tCost time: 16.81\n",
      "Epoch 6 Global_step 100\tTrain_loss: 0.6640\tEval_GAUC: 0.7126\tEval_AUC: 0.6817\n",
      "Epoch 6 DONE\tCost time: 19.51\n",
      "Epoch 7 Global_step 100\tTrain_loss: 0.6601\tEval_GAUC: 0.7098\tEval_AUC: 0.6818\n",
      "Epoch 7 DONE\tCost time: 22.21\n",
      "Epoch 8 Global_step 100\tTrain_loss: 0.6562\tEval_GAUC: 0.7040\tEval_AUC: 0.6818\n",
      "Epoch 8 DONE\tCost time: 24.91\n",
      "Epoch 9 Global_step 100\tTrain_loss: 0.6525\tEval_GAUC: 0.7040\tEval_AUC: 0.6820\n",
      "Epoch 9 DONE\tCost time: 27.66\n",
      "Epoch 10 Global_step 100\tTrain_loss: 0.6486\tEval_GAUC: 0.7011\tEval_AUC: 0.6818\n",
      "Epoch 10 DONE\tCost time: 30.35\n",
      "Epoch 11 Global_step 100\tTrain_loss: 0.6447\tEval_GAUC: 0.6983\tEval_AUC: 0.6817\n",
      "Epoch 11 DONE\tCost time: 33.05\n",
      "Epoch 12 Global_step 100\tTrain_loss: 0.6406\tEval_GAUC: 0.6925\tEval_AUC: 0.6820\n",
      "Epoch 12 DONE\tCost time: 35.77\n",
      "Epoch 13 Global_step 100\tTrain_loss: 0.6362\tEval_GAUC: 0.7011\tEval_AUC: 0.6824\n",
      "Epoch 13 DONE\tCost time: 38.49\n",
      "Epoch 14 Global_step 100\tTrain_loss: 0.6314\tEval_GAUC: 0.7011\tEval_AUC: 0.6826\n",
      "Epoch 14 DONE\tCost time: 41.24\n",
      "Best test_gauc:  tf.Tensor(0.72126436, shape=(), dtype=float32)\n"
     ]
    },
    {
     "data": {
      "image/png": "[encoded data removed]",
      "text/plain": [
       "<Figure size 432x288 with 1 Axes>"
      ]
     },
     "metadata": {
      "needs_background": "light"
     },
     "output_type": "display_data"
    }
   ],
   "source": [
    "loss_his = []\n",
    "auc_his = []\n",
    "test_gauc_his = []\n",
    "\n",
    "train(optimizer, model1) # DIN\n",
    "\n",
    "plt.plot(loss_his,color='red',linewidth=2.0,linestyle='--')\n",
    "plt.plot(auc_his,color='blue',linewidth=3.0,linestyle='-.')\n",
    "plt.show()\n"
   ]
  },
  {
   "cell_type": "code",
   "execution_count": 6,
   "metadata": {},
   "outputs": [
    {
     "name": "stdout",
     "output_type": "stream",
     "text": [
      "Epoch 0 Global_step 100\tTrain_loss: 0.7033\tEval_GAUC: 0.7184\tEval_AUC: 0.6791\n",
      "Epoch 0 DONE\tCost time: 6.87\n",
      "Epoch 1 Global_step 100\tTrain_loss: 0.6896\tEval_GAUC: 0.7126\tEval_AUC: 0.6803\n",
      "Epoch 1 DONE\tCost time: 12.85\n",
      "Epoch 2 Global_step 100\tTrain_loss: 0.6849\tEval_GAUC: 0.7155\tEval_AUC: 0.6810\n",
      "Epoch 2 DONE\tCost time: 18.91\n",
      "Epoch 3 Global_step 100\tTrain_loss: 0.6805\tEval_GAUC: 0.7155\tEval_AUC: 0.6818\n",
      "Epoch 3 DONE\tCost time: 25.05\n",
      "Epoch 4 Global_step 100\tTrain_loss: 0.6764\tEval_GAUC: 0.7155\tEval_AUC: 0.6822\n",
      "Epoch 4 DONE\tCost time: 31.09\n",
      "Epoch 5 Global_step 100\tTrain_loss: 0.6726\tEval_GAUC: 0.7155\tEval_AUC: 0.6825\n",
      "Epoch 5 DONE\tCost time: 37.17\n",
      "Epoch 6 Global_step 100\tTrain_loss: 0.6689\tEval_GAUC: 0.7155\tEval_AUC: 0.6827\n",
      "Epoch 6 DONE\tCost time: 43.25\n",
      "Epoch 7 Global_step 100\tTrain_loss: 0.6655\tEval_GAUC: 0.7184\tEval_AUC: 0.6829\n",
      "Epoch 7 DONE\tCost time: 49.22\n",
      "Epoch 8 Global_step 100\tTrain_loss: 0.6623\tEval_GAUC: 0.7184\tEval_AUC: 0.6828\n",
      "Epoch 8 DONE\tCost time: 55.25\n",
      "Epoch 9 Global_step 100\tTrain_loss: 0.6592\tEval_GAUC: 0.7184\tEval_AUC: 0.6829\n",
      "Epoch 9 DONE\tCost time: 61.30\n",
      "Epoch 10 Global_step 100\tTrain_loss: 0.6563\tEval_GAUC: 0.7184\tEval_AUC: 0.6829\n",
      "Epoch 10 DONE\tCost time: 67.25\n",
      "Epoch 11 Global_step 100\tTrain_loss: 0.6535\tEval_GAUC: 0.7184\tEval_AUC: 0.6829\n",
      "Epoch 11 DONE\tCost time: 73.20\n",
      "Epoch 12 Global_step 100\tTrain_loss: 0.6509\tEval_GAUC: 0.7184\tEval_AUC: 0.6830\n",
      "Epoch 12 DONE\tCost time: 79.13\n",
      "Epoch 13 Global_step 100\tTrain_loss: 0.6485\tEval_GAUC: 0.7184\tEval_AUC: 0.6830\n",
      "Epoch 13 DONE\tCost time: 85.06\n",
      "Epoch 14 Global_step 100\tTrain_loss: 0.6461\tEval_GAUC: 0.7155\tEval_AUC: 0.6830\n",
      "Epoch 14 DONE\tCost time: 91.00\n",
      "Best test_gauc:  tf.Tensor(0.7183908, shape=(), dtype=float32)\n"
     ]
    },
    {
     "data": {
      "image/png": "[encoded data removed]",
      "text/plain": [
       "<Figure size 432x288 with 1 Axes>"
      ]
     },
     "metadata": {
      "needs_background": "light"
     },
     "output_type": "display_data"
    }
   ],
   "source": [
    "loss_his = []\n",
    "auc_his = []\n",
    "test_gauc_his = []\n",
    "\n",
    "train(optimizer, model2) # DIEN\n",
    "\n",
    "plt.plot(loss_his,color='red',linewidth=2.0,linestyle='--')\n",
    "plt.plot(auc_his,color='blue',linewidth=3.0,linestyle='-.')\n",
    "plt.show()"
   ]
  }
 ],
 "metadata": {
  "kernelspec": {
   "display_name": "Python 3",
   "language": "python",
   "name": "python3"
  },
  "language_info": {
   "codemirror_mode": {
    "name": "ipython",
    "version": 3
   },
   "file_extension": ".py",
   "mimetype": "text/x-python",
   "name": "python",
   "nbconvert_exporter": "python",
   "pygments_lexer": "ipython3",
   "version": "3.7.7"
  }
 },
 "nbformat": 4,
 "nbformat_minor": 4
}
